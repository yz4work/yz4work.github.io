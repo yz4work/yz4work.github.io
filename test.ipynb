{
 "cells": [
  {
   "cell_type": "markdown",
   "metadata": {},
   "source": [
    "# 一些有用的函数"
   ]
  },
  {
   "cell_type": "code",
   "execution_count": 3,
   "metadata": {},
   "outputs": [],
   "source": [
    "import numpy as np \n",
    "import torch \n",
    "import torch.nn as nn\n",
    "import torch.nn.functional as F"
   ]
  },
  {
   "cell_type": "code",
   "execution_count": 55,
   "metadata": {},
   "outputs": [
    {
     "name": "stdout",
     "output_type": "stream",
     "text": [
      "[[[[ 1  2  3  4  5]\n",
      "   [ 6  7  8  9 10]\n",
      "   [11 12 13 14 15]\n",
      "   [16 17 18 19 20]\n",
      "   [21 22 23 24 25]]]]\n",
      "tensor([[[[ 1.,  3.],\n",
      "          [11., 13.]]]])\n"
     ]
    }
   ],
   "source": [
    "## 绝对坐标 -1 到 1\n",
    "idx = [0, 2]\n",
    "xx = np.arange(-1, 1.5, 0.5)[idx]\n",
    "yy = np.arange(-1, 1.5, 0.5)[idx]\n",
    "v = np.arange(1, 26).reshape(5,5)[None,None]\n",
    "print(v)\n",
    "grid = np.meshgrid(*[xx, yy])\n",
    "grid = [g[:,:,None] for g in grid]\n",
    "grid = np.concatenate(grid, axis=-1)\n",
    "grid = grid[None]\n",
    "grid = torch.from_numpy(grid)\n",
    "\n",
    "u = torch.nn.functional.grid_sample(torch.from_numpy(v).float(), grid.float(), align_corners=True)\n",
    "print(u)"
   ]
  },
  {
   "cell_type": "markdown",
   "metadata": {},
   "source": [
    "#### scatter_和gather"
   ]
  },
  {
   "cell_type": "code",
   "execution_count": 7,
   "metadata": {},
   "outputs": [
    {
     "name": "stdout",
     "output_type": "stream",
     "text": [
      "tensor([[1., 2., 3., 4.],\n",
      "        [5., 6., 7., 8.]])\n",
      "tensor([[0., 0., 0., 0.],\n",
      "        [0., 0., 0., 0.],\n",
      "        [0., 0., 0., 0.]])\n"
     ]
    }
   ],
   "source": [
    "x = torch.arange(1,9).view(2,4).float()\n",
    "y = torch.zeros(3,4)\n",
    "print(x)\n",
    "print(y)"
   ]
  },
  {
   "cell_type": "code",
   "execution_count": 11,
   "metadata": {},
   "outputs": [
    {
     "name": "stdout",
     "output_type": "stream",
     "text": [
      "tensor([[1., 2., 3., 4.],\n",
      "        [5., 6., 7., 8.],\n",
      "        [0., 0., 0., 0.]])\n",
      "tensor([[1., 2., 3., 4.],\n",
      "        [0., 0., 0., 0.],\n",
      "        [5., 6., 7., 8.]])\n"
     ]
    }
   ],
   "source": [
    "## 按dim轴，以给定idx的顺序从x填入y\n",
    "idx_y = torch.LongTensor([[0,0,0,0],[1,1,1,1]])\n",
    "z0 = torch.scatter(y, 0, idx_y, x)\n",
    "print(z0)\n",
    "idx_y = torch.LongTensor([[0,0,0,0],[2,2,2,2]])\n",
    "z1 = torch.scatter(y, 0, idx_y, x)\n",
    "print(z1)"
   ]
  },
  {
   "cell_type": "code",
   "execution_count": 15,
   "metadata": {},
   "outputs": [
    {
     "name": "stdout",
     "output_type": "stream",
     "text": [
      "tensor([[1., 2., 3., 4.],\n",
      "        [5., 6., 7., 8.],\n",
      "        [0., 0., 0., 0.]])\n",
      "tensor([[4., 3., 2., 1.],\n",
      "        [0., 0., 8., 0.],\n",
      "        [0., 0., 0., 0.]])\n"
     ]
    }
   ],
   "source": [
    "idx_y = torch.LongTensor([[0,1,2,3],[0,1,2,3]])\n",
    "z0 = torch.scatter(y, 1, idx_y, x)\n",
    "print(z0)\n",
    "idx_y = torch.LongTensor([[3,2,1,0],[2,2,2,2]])\n",
    "z1 = torch.scatter(y, 1, idx_y, x)\n",
    "print(z1)"
   ]
  },
  {
   "cell_type": "code",
   "execution_count": 23,
   "metadata": {},
   "outputs": [],
   "source": [
    "a = torch.FloatTensor(2,4)"
   ]
  },
  {
   "cell_type": "code",
   "execution_count": 17,
   "metadata": {},
   "outputs": [],
   "source": [
    "from torch.autograd import Variable"
   ]
  },
  {
   "cell_type": "code",
   "execution_count": 27,
   "metadata": {},
   "outputs": [
    {
     "data": {
      "text/plain": [
       "tensor([[0., 0., 0., 0.],\n",
       "        [0., 0., 0., 0.]])"
      ]
     },
     "execution_count": 27,
     "metadata": {},
     "output_type": "execute_result"
    }
   ],
   "source": [
    "a.data.new(2,4).fill_(0.)"
   ]
  },
  {
   "cell_type": "code",
   "execution_count": 34,
   "metadata": {},
   "outputs": [
    {
     "data": {
      "text/plain": [
       "tensor([1, 1, 1, 1])"
      ]
     },
     "execution_count": 34,
     "metadata": {},
     "output_type": "execute_result"
    }
   ],
   "source": [
    "y = torch.argmax(x, dim=0)\n",
    "y"
   ]
  },
  {
   "cell_type": "code",
   "execution_count": 33,
   "metadata": {},
   "outputs": [
    {
     "ename": "IndexError",
     "evalue": "scatter_(): Expected dtype int64 for index.",
     "output_type": "error",
     "traceback": [
      "\u001b[1;31m---------------------------------------------------------------------------\u001b[0m",
      "\u001b[1;31mIndexError\u001b[0m                                Traceback (most recent call last)",
      "\u001b[1;32m~\\AppData\\Local\\Temp\\ipykernel_14984\\1825745732.py\u001b[0m in \u001b[0;36m<module>\u001b[1;34m\u001b[0m\n\u001b[0;32m      2\u001b[0m \u001b[0mclass_mask\u001b[0m \u001b[1;33m=\u001b[0m \u001b[0mVariable\u001b[0m\u001b[1;33m(\u001b[0m\u001b[0mclass_mask\u001b[0m\u001b[1;33m)\u001b[0m\u001b[1;33m\u001b[0m\u001b[1;33m\u001b[0m\u001b[0m\n\u001b[0;32m      3\u001b[0m \u001b[0mids\u001b[0m \u001b[1;33m=\u001b[0m \u001b[0mx\u001b[0m\u001b[1;33m.\u001b[0m\u001b[0mview\u001b[0m\u001b[1;33m(\u001b[0m\u001b[1;33m-\u001b[0m\u001b[1;36m1\u001b[0m\u001b[1;33m,\u001b[0m \u001b[1;36m4\u001b[0m\u001b[1;33m)\u001b[0m\u001b[1;33m\u001b[0m\u001b[1;33m\u001b[0m\u001b[0m\n\u001b[1;32m----> 4\u001b[1;33m \u001b[0mclass_mask\u001b[0m\u001b[1;33m.\u001b[0m\u001b[0mscatter_\u001b[0m\u001b[1;33m(\u001b[0m\u001b[1;36m1\u001b[0m\u001b[1;33m,\u001b[0m \u001b[0mids\u001b[0m\u001b[1;33m.\u001b[0m\u001b[0mdata\u001b[0m\u001b[1;33m,\u001b[0m \u001b[1;36m1.\u001b[0m\u001b[1;33m)\u001b[0m\u001b[1;33m\u001b[0m\u001b[1;33m\u001b[0m\u001b[0m\n\u001b[0m",
      "\u001b[1;31mIndexError\u001b[0m: scatter_(): Expected dtype int64 for index."
     ]
    }
   ],
   "source": [
    "class_mask = x.data.new(2,4).fill_(0.)\n",
    "class_mask = Variable(class_mask)\n",
    "ids = x.view(-1, 4)\n",
    "class_mask.scatter_(1, torch.LongTensor([[0,]]), 1.)"
   ]
  },
  {
   "cell_type": "markdown",
   "metadata": {},
   "source": [
    "#### Focal Loss  \n",
    "$L_{ce} = \\begin{cases} -\\log \\hat{y}, y=1 \\\\ \n",
    "\\log (1-\\hat{y}), y=0 \\end{cases}$  \n",
    "\n",
    "$L_{fl} = \\begin{cases} -(1-\\hat{y})^{\\gamma} \\log \\hat{y}, y=1 \\\\ \n",
    "\\log (1-\\hat{y}), y=0 \\end{cases}$"
   ]
  },
  {
   "cell_type": "code",
   "execution_count": 47,
   "metadata": {},
   "outputs": [],
   "source": [
    "import torch\n",
    "import torch.nn.functional as F\n",
    "def sigmoid_focal_loss(x, y, alpha=0.25, gamma=2., reduction='none'):\n",
    "    \"\"\" focal loss. x, y have same shape, y is one-hot encoded \"\"\"\n",
    "    p = torch.sigmoid(x) # probability\n",
    "    p_t = p*y + (1-p) * (1-y) # coefficient\n",
    "    ce_loss = F.binary_cross_entropy_with_logits(x, y, reduction=\"none\") # cross entropy\n",
    "    loss = ce_loss * ((1-p_t)** gamma)\n",
    "\n",
    "    if alpha >= 0:\n",
    "        alpha_t = alpha*y + (1-alpha) * (1 - y)\n",
    "        loss = alpha_t * loss\n",
    "\n",
    "    if reduction == \"mean\": loss = loss.mean()\n",
    "    elif reduction == \"sum\": loss = loss.sum()\n",
    "    return loss"
   ]
  },
  {
   "cell_type": "markdown",
   "metadata": {},
   "source": [
    "#### 标签one-hot编码"
   ]
  },
  {
   "cell_type": "code",
   "execution_count": 79,
   "metadata": {},
   "outputs": [],
   "source": [
    "def to_one_hot1(x, y):\n",
    "    \"\"\" x: result of softmax, y: label \"\"\"\n",
    "    N,C,W,H,D = x.shape\n",
    "    y_one_hot = torch.zeros_like(x)\n",
    "    m = y.view(-1, 1, W, H, D)\n",
    "    y_one_hot.scatter_(1, m, 1.)\n",
    "    return y_one_hot\n",
    "\n",
    "def to_one_hot2(x, y, num_classes):\n",
    "    \"\"\" x: result of softmax, y: label \"\"\"\n",
    "    N,C,W,H,D = x.shape\n",
    "    y_one_hot = F.one_hot(y.reshape(N,W,H,D), num_classes=num_classes)\n",
    "    y_one_hot = y_one_hot.permute(0,4,1,2,3).contiguous()\n",
    "    return y_one_hot"
   ]
  },
  {
   "cell_type": "code",
   "execution_count": 4,
   "metadata": {},
   "outputs": [
    {
     "name": "stdout",
     "output_type": "stream",
     "text": [
      "ok\n"
     ]
    }
   ],
   "source": [
    "print('ok')"
   ]
  },
  {
   "cell_type": "code",
   "execution_count": 3,
   "metadata": {},
   "outputs": [],
   "source": [
    "# from manimlib import *"
   ]
  },
  {
   "cell_type": "code",
   "execution_count": 4,
   "metadata": {},
   "outputs": [],
   "source": [
    "import numpy as np"
   ]
  },
  {
   "cell_type": "code",
   "execution_count": 7,
   "metadata": {},
   "outputs": [
    {
     "ename": "NameError",
     "evalue": "name 'pqi' is not defined",
     "output_type": "error",
     "traceback": [
      "\u001b[1;31m---------------------------------------------------------------------------\u001b[0m",
      "\u001b[1;31mNameError\u001b[0m                                 Traceback (most recent call last)",
      "Cell \u001b[1;32mIn [7], line 1\u001b[0m\n\u001b[1;32m----> 1\u001b[0m pqi\n",
      "\u001b[1;31mNameError\u001b[0m: name 'pqi' is not defined"
     ]
    }
   ],
   "source": [
    "pqi"
   ]
  },
  {
   "cell_type": "code",
   "execution_count": null,
   "metadata": {},
   "outputs": [
    {
     "ename": "",
     "evalue": "",
     "output_type": "error",
     "traceback": [
      "\u001b[1;31mRunning cells with 'Python 3.10.8 ('py310')' requires ipykernel package.\n",
      "\u001b[1;31mRun the following command to install 'ipykernel' into the Python environment. \n",
      "\u001b[1;31mCommand: 'conda install -n py310 ipykernel --update-deps --force-reinstall'"
     ]
    }
   ],
   "source": [
    "from manimlib import *\n",
    "\n",
    "class SquareToCircle(Scene):\n",
    "    def construct(self):\n",
    "        circle = Circle()\n",
    "        circle.set_fill(BLUE, opacity=0.5)\n",
    "        circle.set_stroke(BLUE_E, width=4)\n",
    "\n",
    "        self.add(circle)"
   ]
  },
  {
   "cell_type": "code",
   "execution_count": null,
   "metadata": {},
   "outputs": [],
   "source": []
  }
 ],
 "metadata": {
  "kernelspec": {
   "display_name": "Python 3.10.8 ('py310')",
   "language": "python",
   "name": "python3"
  },
  "language_info": {
   "codemirror_mode": {
    "name": "ipython",
    "version": 3
   },
   "file_extension": ".py",
   "mimetype": "text/x-python",
   "name": "python",
   "nbconvert_exporter": "python",
   "pygments_lexer": "ipython3",
   "version": "3.10.8"
  },
  "orig_nbformat": 4,
  "vscode": {
   "interpreter": {
    "hash": "420a315160757432587da1bc4d22e34cfab7752d9bf58305acdc131d0e33d209"
   }
  }
 },
 "nbformat": 4,
 "nbformat_minor": 2
}
