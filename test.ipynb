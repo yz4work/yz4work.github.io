{
 "cells": [
  {
   "cell_type": "code",
   "execution_count": 27,
   "metadata": {},
   "outputs": [],
   "source": [
    "import numpy as np \n",
    "import torch "
   ]
  },
  {
   "cell_type": "code",
   "execution_count": 55,
   "metadata": {},
   "outputs": [
    {
     "name": "stdout",
     "output_type": "stream",
     "text": [
      "[[[[ 1  2  3  4  5]\n",
      "   [ 6  7  8  9 10]\n",
      "   [11 12 13 14 15]\n",
      "   [16 17 18 19 20]\n",
      "   [21 22 23 24 25]]]]\n",
      "tensor([[[[ 1.,  3.],\n",
      "          [11., 13.]]]])\n"
     ]
    }
   ],
   "source": [
    "## 绝对坐标 -1 到 1\n",
    "idx = [0, 2]\n",
    "xx = np.arange(-1, 1.5, 0.5)[idx]\n",
    "yy = np.arange(-1, 1.5, 0.5)[idx]\n",
    "v = np.arange(1, 26).reshape(5,5)[None,None]\n",
    "print(v)\n",
    "grid = np.meshgrid(*[xx, yy])\n",
    "grid = [g[:,:,None] for g in grid]\n",
    "grid = np.concatenate(grid, axis=-1)\n",
    "grid = grid[None]\n",
    "grid = torch.from_numpy(grid)\n",
    "\n",
    "u = torch.nn.functional.grid_sample(torch.from_numpy(v).float(), grid.float(), align_corners=True)\n",
    "print(u)"
   ]
  },
  {
   "cell_type": "code",
   "execution_count": 54,
   "metadata": {},
   "outputs": [
    {
     "data": {
      "text/plain": [
       "tensor([[[[ 1.,  2.,  3.,  4.,  5.],\n",
       "          [ 6.,  7.,  8.,  9., 10.],\n",
       "          [11., 12., 13., 14., 15.],\n",
       "          [16., 17., 18., 19., 20.],\n",
       "          [21., 22., 23., 24., 25.]]]])"
      ]
     },
     "execution_count": 54,
     "metadata": {},
     "output_type": "execute_result"
    }
   ],
   "source": [
    "u"
   ]
  },
  {
   "cell_type": "code",
   "execution_count": 52,
   "metadata": {},
   "outputs": [
    {
     "data": {
      "text/plain": [
       "torch.Size([1, 8, 8, 2])"
      ]
     },
     "execution_count": 52,
     "metadata": {},
     "output_type": "execute_result"
    }
   ],
   "source": [
    "grid.shape"
   ]
  },
  {
   "cell_type": "code",
   "execution_count": 13,
   "metadata": {},
   "outputs": [
    {
     "data": {
      "text/plain": [
       "array([[[[1. , 4. ],\n",
       "         [1.2, 4. ],\n",
       "         [1.4, 4. ],\n",
       "         [1.6, 4. ],\n",
       "         [1.8, 4. ]],\n",
       "\n",
       "        [[1. , 4.4],\n",
       "         [1.2, 4.4],\n",
       "         [1.4, 4.4],\n",
       "         [1.6, 4.4],\n",
       "         [1.8, 4.4]],\n",
       "\n",
       "        [[1. , 4.8],\n",
       "         [1.2, 4.8],\n",
       "         [1.4, 4.8],\n",
       "         [1.6, 4.8],\n",
       "         [1.8, 4.8]],\n",
       "\n",
       "        [[1. , 5.2],\n",
       "         [1.2, 5.2],\n",
       "         [1.4, 5.2],\n",
       "         [1.6, 5.2],\n",
       "         [1.8, 5.2]],\n",
       "\n",
       "        [[1. , 5.6],\n",
       "         [1.2, 5.6],\n",
       "         [1.4, 5.6],\n",
       "         [1.6, 5.6],\n",
       "         [1.8, 5.6]]]])"
      ]
     },
     "execution_count": 13,
     "metadata": {},
     "output_type": "execute_result"
    }
   ],
   "source": [
    "gg * d"
   ]
  },
  {
   "cell_type": "code",
   "execution_count": null,
   "metadata": {},
   "outputs": [],
   "source": []
  }
 ],
 "metadata": {
  "kernelspec": {
   "display_name": "Python 3.7.13 ('base')",
   "language": "python",
   "name": "python3"
  },
  "language_info": {
   "codemirror_mode": {
    "name": "ipython",
    "version": 3
   },
   "file_extension": ".py",
   "mimetype": "text/x-python",
   "name": "python",
   "nbconvert_exporter": "python",
   "pygments_lexer": "ipython3",
   "version": "3.7.13"
  },
  "orig_nbformat": 4,
  "vscode": {
   "interpreter": {
    "hash": "495003e9c7915fc61884839bcecbaa45984ec1025073078c155340d59c86bed0"
   }
  }
 },
 "nbformat": 4,
 "nbformat_minor": 2
}
