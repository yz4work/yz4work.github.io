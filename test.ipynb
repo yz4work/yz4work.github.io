{
 "cells": [
  {
   "cell_type": "markdown",
   "metadata": {},
   "source": [
    "# 一些有用的函数"
   ]
  },
  {
   "cell_type": "code",
   "execution_count": 1,
   "metadata": {},
   "outputs": [],
   "source": [
    "import numpy as np \n",
    "import torch "
   ]
  },
  {
   "cell_type": "code",
   "execution_count": 55,
   "metadata": {},
   "outputs": [
    {
     "name": "stdout",
     "output_type": "stream",
     "text": [
      "[[[[ 1  2  3  4  5]\n",
      "   [ 6  7  8  9 10]\n",
      "   [11 12 13 14 15]\n",
      "   [16 17 18 19 20]\n",
      "   [21 22 23 24 25]]]]\n",
      "tensor([[[[ 1.,  3.],\n",
      "          [11., 13.]]]])\n"
     ]
    }
   ],
   "source": [
    "## 绝对坐标 -1 到 1\n",
    "idx = [0, 2]\n",
    "xx = np.arange(-1, 1.5, 0.5)[idx]\n",
    "yy = np.arange(-1, 1.5, 0.5)[idx]\n",
    "v = np.arange(1, 26).reshape(5,5)[None,None]\n",
    "print(v)\n",
    "grid = np.meshgrid(*[xx, yy])\n",
    "grid = [g[:,:,None] for g in grid]\n",
    "grid = np.concatenate(grid, axis=-1)\n",
    "grid = grid[None]\n",
    "grid = torch.from_numpy(grid)\n",
    "\n",
    "u = torch.nn.functional.grid_sample(torch.from_numpy(v).float(), grid.float(), align_corners=True)\n",
    "print(u)"
   ]
  },
  {
   "cell_type": "markdown",
   "metadata": {},
   "source": [
    "#### scatter_和gather"
   ]
  },
  {
   "cell_type": "code",
   "execution_count": 7,
   "metadata": {},
   "outputs": [
    {
     "name": "stdout",
     "output_type": "stream",
     "text": [
      "tensor([[1., 2., 3., 4.],\n",
      "        [5., 6., 7., 8.]])\n",
      "tensor([[0., 0., 0., 0.],\n",
      "        [0., 0., 0., 0.],\n",
      "        [0., 0., 0., 0.]])\n"
     ]
    }
   ],
   "source": [
    "x = torch.arange(1,9).view(2,4).float()\n",
    "y = torch.zeros(3,4)\n",
    "print(x)\n",
    "print(y)"
   ]
  },
  {
   "cell_type": "code",
   "execution_count": 11,
   "metadata": {},
   "outputs": [
    {
     "name": "stdout",
     "output_type": "stream",
     "text": [
      "tensor([[1., 2., 3., 4.],\n",
      "        [5., 6., 7., 8.],\n",
      "        [0., 0., 0., 0.]])\n",
      "tensor([[1., 2., 3., 4.],\n",
      "        [0., 0., 0., 0.],\n",
      "        [5., 6., 7., 8.]])\n"
     ]
    }
   ],
   "source": [
    "## 按dim轴，以给定idx的顺序从x填入y\n",
    "idx_y = torch.LongTensor([[0,0,0,0],[1,1,1,1]])\n",
    "z0 = torch.scatter(y, 0, idx_y, x)\n",
    "print(z0)\n",
    "idx_y = torch.LongTensor([[0,0,0,0],[2,2,2,2]])\n",
    "z1 = torch.scatter(y, 0, idx_y, x)\n",
    "print(z1)"
   ]
  },
  {
   "cell_type": "code",
   "execution_count": 15,
   "metadata": {},
   "outputs": [
    {
     "name": "stdout",
     "output_type": "stream",
     "text": [
      "tensor([[1., 2., 3., 4.],\n",
      "        [5., 6., 7., 8.],\n",
      "        [0., 0., 0., 0.]])\n",
      "tensor([[4., 3., 2., 1.],\n",
      "        [0., 0., 8., 0.],\n",
      "        [0., 0., 0., 0.]])\n"
     ]
    }
   ],
   "source": [
    "idx_y = torch.LongTensor([[0,1,2,3],[0,1,2,3]])\n",
    "z0 = torch.scatter(y, 1, idx_y, x)\n",
    "print(z0)\n",
    "idx_y = torch.LongTensor([[3,2,1,0],[2,2,2,2]])\n",
    "z1 = torch.scatter(y, 1, idx_y, x)\n",
    "print(z1)"
   ]
  },
  {
   "cell_type": "code",
   "execution_count": 23,
   "metadata": {},
   "outputs": [],
   "source": [
    "a = torch.FloatTensor(2,4)"
   ]
  },
  {
   "cell_type": "code",
   "execution_count": 17,
   "metadata": {},
   "outputs": [],
   "source": [
    "from torch.autograd import Variable"
   ]
  },
  {
   "cell_type": "code",
   "execution_count": 27,
   "metadata": {},
   "outputs": [
    {
     "data": {
      "text/plain": [
       "tensor([[0., 0., 0., 0.],\n",
       "        [0., 0., 0., 0.]])"
      ]
     },
     "execution_count": 27,
     "metadata": {},
     "output_type": "execute_result"
    }
   ],
   "source": [
    "a.data.new(2,4).fill_(0.)"
   ]
  },
  {
   "cell_type": "code",
   "execution_count": 34,
   "metadata": {},
   "outputs": [
    {
     "data": {
      "text/plain": [
       "tensor([1, 1, 1, 1])"
      ]
     },
     "execution_count": 34,
     "metadata": {},
     "output_type": "execute_result"
    }
   ],
   "source": [
    "y = torch.argmax(x, dim=0)\n",
    "y"
   ]
  },
  {
   "cell_type": "code",
   "execution_count": 33,
   "metadata": {},
   "outputs": [
    {
     "ename": "IndexError",
     "evalue": "scatter_(): Expected dtype int64 for index.",
     "output_type": "error",
     "traceback": [
      "\u001b[1;31m---------------------------------------------------------------------------\u001b[0m",
      "\u001b[1;31mIndexError\u001b[0m                                Traceback (most recent call last)",
      "\u001b[1;32m~\\AppData\\Local\\Temp\\ipykernel_14984\\1825745732.py\u001b[0m in \u001b[0;36m<module>\u001b[1;34m\u001b[0m\n\u001b[0;32m      2\u001b[0m \u001b[0mclass_mask\u001b[0m \u001b[1;33m=\u001b[0m \u001b[0mVariable\u001b[0m\u001b[1;33m(\u001b[0m\u001b[0mclass_mask\u001b[0m\u001b[1;33m)\u001b[0m\u001b[1;33m\u001b[0m\u001b[1;33m\u001b[0m\u001b[0m\n\u001b[0;32m      3\u001b[0m \u001b[0mids\u001b[0m \u001b[1;33m=\u001b[0m \u001b[0mx\u001b[0m\u001b[1;33m.\u001b[0m\u001b[0mview\u001b[0m\u001b[1;33m(\u001b[0m\u001b[1;33m-\u001b[0m\u001b[1;36m1\u001b[0m\u001b[1;33m,\u001b[0m \u001b[1;36m4\u001b[0m\u001b[1;33m)\u001b[0m\u001b[1;33m\u001b[0m\u001b[1;33m\u001b[0m\u001b[0m\n\u001b[1;32m----> 4\u001b[1;33m \u001b[0mclass_mask\u001b[0m\u001b[1;33m.\u001b[0m\u001b[0mscatter_\u001b[0m\u001b[1;33m(\u001b[0m\u001b[1;36m1\u001b[0m\u001b[1;33m,\u001b[0m \u001b[0mids\u001b[0m\u001b[1;33m.\u001b[0m\u001b[0mdata\u001b[0m\u001b[1;33m,\u001b[0m \u001b[1;36m1.\u001b[0m\u001b[1;33m)\u001b[0m\u001b[1;33m\u001b[0m\u001b[1;33m\u001b[0m\u001b[0m\n\u001b[0m",
      "\u001b[1;31mIndexError\u001b[0m: scatter_(): Expected dtype int64 for index."
     ]
    }
   ],
   "source": [
    "class_mask = x.data.new(2,4).fill_(0.)\n",
    "class_mask = Variable(class_mask)\n",
    "ids = x.view(-1, 4)\n",
    "class_mask.scatter_(1, torch.LongTensor([[0,]]), 1.)"
   ]
  },
  {
   "cell_type": "markdown",
   "metadata": {},
   "source": [
    "#### Focal Loss  \n",
    "$L_{ce} = \\begin{cases} -\\log \\hat{y}, y=1 \\\\ \n",
    "\\log (1-\\hat{y}), y=0 \\end{cases}$"
   ]
  },
  {
   "cell_type": "code",
   "execution_count": 47,
   "metadata": {},
   "outputs": [],
   "source": [
    "import torch\n",
    "import torch.nn.functional as F\n",
    "def sigmoid_focal_loss(x, y, alpha=0.25, gamma=2., reduction='none'):\n",
    "    \"\"\" focal loss. x, y have same shape, y is one-hot encoded \"\"\"\n",
    "    p = torch.sigmoid(x) # probability\n",
    "    p_t = p*y + (1-p) * (1-y) # coeffision\n",
    "    ce_loss = F.binary_cross_entropy_with_logits(x, y, reduction=\"none\") # cross entropy\n",
    "    loss = ce_loss * ((1-p_t)** gamma)\n",
    "\n",
    "    if alpha >= 0:\n",
    "        alpha_t = alpha*y + (1-alpha) * (1 - y)\n",
    "        loss = alpha_t * loss\n",
    "\n",
    "    if reduction == \"mean\": loss = loss.mean()\n",
    "    elif reduction == \"sum\": loss = loss.sum()\n",
    "    return loss"
   ]
  },
  {
   "cell_type": "code",
   "execution_count": 39,
   "metadata": {},
   "outputs": [],
   "source": [
    "x = torch.randn(2,4)\n",
    "t = torch.zeros_like(x)\n",
    "t[0,0] = 1. \n",
    "t[1,1] = 1. "
   ]
  },
  {
   "cell_type": "code",
   "execution_count": 48,
   "metadata": {},
   "outputs": [],
   "source": [
    "p = torch.sigmoid(x)\n",
    "p_t = p * t + (1 - p) * (1 - t)\n",
    "\n",
    "ce_loss = F.binary_cross_entropy_with_logits(x, t, reduction=\"none\")"
   ]
  },
  {
   "cell_type": "code",
   "execution_count": 49,
   "metadata": {},
   "outputs": [
    {
     "name": "stdout",
     "output_type": "stream",
     "text": [
      "tensor([[0.3644, 0.6828, 0.8539, 0.5287],\n",
      "        [0.2639, 0.3066, 0.0869, 0.3104]])\n",
      "tensor([[0.3644, 0.3172, 0.1461, 0.4713],\n",
      "        [0.7361, 0.3066, 0.9131, 0.6896]])\n",
      "tensor([[1.0095, 1.1484, 1.9233, 0.7522],\n",
      "        [0.3064, 1.1823, 0.0909, 0.3717]])\n"
     ]
    }
   ],
   "source": [
    "print(p)\n",
    "print(p_t)\n",
    "print(ce_loss)"
   ]
  },
  {
   "cell_type": "code",
   "execution_count": null,
   "metadata": {},
   "outputs": [],
   "source": []
  }
 ],
 "metadata": {
  "kernelspec": {
   "display_name": "Python 3.7.13 ('base')",
   "language": "python",
   "name": "python3"
  },
  "language_info": {
   "codemirror_mode": {
    "name": "ipython",
    "version": 3
   },
   "file_extension": ".py",
   "mimetype": "text/x-python",
   "name": "python",
   "nbconvert_exporter": "python",
   "pygments_lexer": "ipython3",
   "version": "3.7.13"
  },
  "orig_nbformat": 4,
  "vscode": {
   "interpreter": {
    "hash": "495003e9c7915fc61884839bcecbaa45984ec1025073078c155340d59c86bed0"
   }
  }
 },
 "nbformat": 4,
 "nbformat_minor": 2
}
